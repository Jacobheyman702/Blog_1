{
 "cells": [
  {
   "cell_type": "code",
   "execution_count": 4,
   "metadata": {},
   "outputs": [],
   "source": [
    "import random"
   ]
  },
  {
   "cell_type": "code",
   "execution_count": 5,
   "metadata": {},
   "outputs": [],
   "source": [
    "#def kids_bop (lyrics):\n",
    "    #bad_words = ('Fuck', 'Shit', 'Bitch','Slut','Ass','Dick','Pussy')\n",
    "   # clean_words = ('Smile','Hug','Friend','Sunshine','Candy','Love')\n",
    "   # lyrics = [w.replace(bad_words, random.choice(clean_words)) for w in lyrics]\n",
    "    #return lyrics"
   ]
  },
  {
   "cell_type": "code",
   "execution_count": 6,
   "metadata": {
    "collapsed": true
   },
   "outputs": [
    {
     "ename": "TypeError",
     "evalue": "replace() argument 1 must be str, not tuple",
     "output_type": "error",
     "traceback": [
      "\u001b[0;31m---------------------------------------------------------------------------\u001b[0m",
      "\u001b[0;31mTypeError\u001b[0m                                 Traceback (most recent call last)",
      "\u001b[0;32m<ipython-input-6-ff1c2777a5ef>\u001b[0m in \u001b[0;36m<module>\u001b[0;34m()\u001b[0m\n\u001b[1;32m      1\u001b[0m \u001b[0mlyrics_1\u001b[0m \u001b[0;34m=\u001b[0m \u001b[0;34m(\u001b[0m\u001b[0;34m'This'\u001b[0m\u001b[0;34m,\u001b[0m\u001b[0;34m'List'\u001b[0m\u001b[0;34m,\u001b[0m\u001b[0;34m'Says'\u001b[0m\u001b[0;34m,\u001b[0m\u001b[0;34m'Fuck'\u001b[0m\u001b[0;34m)\u001b[0m\u001b[0;34m\u001b[0m\u001b[0;34m\u001b[0m\u001b[0m\n\u001b[0;32m----> 2\u001b[0;31m \u001b[0mkids_bop\u001b[0m\u001b[0;34m(\u001b[0m\u001b[0mlyrics_1\u001b[0m\u001b[0;34m)\u001b[0m\u001b[0;34m\u001b[0m\u001b[0;34m\u001b[0m\u001b[0m\n\u001b[0m",
      "\u001b[0;32m<ipython-input-5-7733f26cba6d>\u001b[0m in \u001b[0;36mkids_bop\u001b[0;34m(lyrics)\u001b[0m\n\u001b[1;32m      2\u001b[0m     \u001b[0mbad_words\u001b[0m \u001b[0;34m=\u001b[0m \u001b[0;34m(\u001b[0m\u001b[0;34m'Fuck'\u001b[0m\u001b[0;34m,\u001b[0m \u001b[0;34m'Shit'\u001b[0m\u001b[0;34m,\u001b[0m \u001b[0;34m'Bitch'\u001b[0m\u001b[0;34m,\u001b[0m\u001b[0;34m'Slut'\u001b[0m\u001b[0;34m,\u001b[0m\u001b[0;34m'Ass'\u001b[0m\u001b[0;34m,\u001b[0m\u001b[0;34m'Dick'\u001b[0m\u001b[0;34m,\u001b[0m\u001b[0;34m'Pussy'\u001b[0m\u001b[0;34m)\u001b[0m\u001b[0;34m\u001b[0m\u001b[0;34m\u001b[0m\u001b[0m\n\u001b[1;32m      3\u001b[0m     \u001b[0mclean_words\u001b[0m \u001b[0;34m=\u001b[0m \u001b[0;34m(\u001b[0m\u001b[0;34m'Smile'\u001b[0m\u001b[0;34m,\u001b[0m\u001b[0;34m'Hug'\u001b[0m\u001b[0;34m,\u001b[0m\u001b[0;34m'Friend'\u001b[0m\u001b[0;34m,\u001b[0m\u001b[0;34m'Sunshine'\u001b[0m\u001b[0;34m,\u001b[0m\u001b[0;34m'Candy'\u001b[0m\u001b[0;34m,\u001b[0m\u001b[0;34m'Love'\u001b[0m\u001b[0;34m)\u001b[0m\u001b[0;34m\u001b[0m\u001b[0;34m\u001b[0m\u001b[0m\n\u001b[0;32m----> 4\u001b[0;31m     \u001b[0mlyrics\u001b[0m \u001b[0;34m=\u001b[0m \u001b[0;34m[\u001b[0m\u001b[0mw\u001b[0m\u001b[0;34m.\u001b[0m\u001b[0mreplace\u001b[0m\u001b[0;34m(\u001b[0m\u001b[0mbad_words\u001b[0m\u001b[0;34m,\u001b[0m \u001b[0mrandom\u001b[0m\u001b[0;34m.\u001b[0m\u001b[0mchoice\u001b[0m\u001b[0;34m(\u001b[0m\u001b[0mclean_words\u001b[0m\u001b[0;34m)\u001b[0m\u001b[0;34m)\u001b[0m \u001b[0;32mfor\u001b[0m \u001b[0mw\u001b[0m \u001b[0;32min\u001b[0m \u001b[0mlyrics\u001b[0m\u001b[0;34m]\u001b[0m\u001b[0;34m\u001b[0m\u001b[0;34m\u001b[0m\u001b[0m\n\u001b[0m\u001b[1;32m      5\u001b[0m     \u001b[0;32mreturn\u001b[0m \u001b[0mlyrics\u001b[0m\u001b[0;34m\u001b[0m\u001b[0;34m\u001b[0m\u001b[0m\n",
      "\u001b[0;32m<ipython-input-5-7733f26cba6d>\u001b[0m in \u001b[0;36m<listcomp>\u001b[0;34m(.0)\u001b[0m\n\u001b[1;32m      2\u001b[0m     \u001b[0mbad_words\u001b[0m \u001b[0;34m=\u001b[0m \u001b[0;34m(\u001b[0m\u001b[0;34m'Fuck'\u001b[0m\u001b[0;34m,\u001b[0m \u001b[0;34m'Shit'\u001b[0m\u001b[0;34m,\u001b[0m \u001b[0;34m'Bitch'\u001b[0m\u001b[0;34m,\u001b[0m\u001b[0;34m'Slut'\u001b[0m\u001b[0;34m,\u001b[0m\u001b[0;34m'Ass'\u001b[0m\u001b[0;34m,\u001b[0m\u001b[0;34m'Dick'\u001b[0m\u001b[0;34m,\u001b[0m\u001b[0;34m'Pussy'\u001b[0m\u001b[0;34m)\u001b[0m\u001b[0;34m\u001b[0m\u001b[0;34m\u001b[0m\u001b[0m\n\u001b[1;32m      3\u001b[0m     \u001b[0mclean_words\u001b[0m \u001b[0;34m=\u001b[0m \u001b[0;34m(\u001b[0m\u001b[0;34m'Smile'\u001b[0m\u001b[0;34m,\u001b[0m\u001b[0;34m'Hug'\u001b[0m\u001b[0;34m,\u001b[0m\u001b[0;34m'Friend'\u001b[0m\u001b[0;34m,\u001b[0m\u001b[0;34m'Sunshine'\u001b[0m\u001b[0;34m,\u001b[0m\u001b[0;34m'Candy'\u001b[0m\u001b[0;34m,\u001b[0m\u001b[0;34m'Love'\u001b[0m\u001b[0;34m)\u001b[0m\u001b[0;34m\u001b[0m\u001b[0;34m\u001b[0m\u001b[0m\n\u001b[0;32m----> 4\u001b[0;31m     \u001b[0mlyrics\u001b[0m \u001b[0;34m=\u001b[0m \u001b[0;34m[\u001b[0m\u001b[0mw\u001b[0m\u001b[0;34m.\u001b[0m\u001b[0mreplace\u001b[0m\u001b[0;34m(\u001b[0m\u001b[0mbad_words\u001b[0m\u001b[0;34m,\u001b[0m \u001b[0mrandom\u001b[0m\u001b[0;34m.\u001b[0m\u001b[0mchoice\u001b[0m\u001b[0;34m(\u001b[0m\u001b[0mclean_words\u001b[0m\u001b[0;34m)\u001b[0m\u001b[0;34m)\u001b[0m \u001b[0;32mfor\u001b[0m \u001b[0mw\u001b[0m \u001b[0;32min\u001b[0m \u001b[0mlyrics\u001b[0m\u001b[0;34m]\u001b[0m\u001b[0;34m\u001b[0m\u001b[0;34m\u001b[0m\u001b[0m\n\u001b[0m\u001b[1;32m      5\u001b[0m     \u001b[0;32mreturn\u001b[0m \u001b[0mlyrics\u001b[0m\u001b[0;34m\u001b[0m\u001b[0;34m\u001b[0m\u001b[0m\n",
      "\u001b[0;31mTypeError\u001b[0m: replace() argument 1 must be str, not tuple"
     ]
    }
   ],
   "source": [
    "#lyrics_1 = ('This','List','Says','Fuck')\n",
    "3kids_bop(lyrics_1)"
   ]
  },
  {
   "cell_type": "code",
   "execution_count": 17,
   "metadata": {},
   "outputs": [],
   "source": [
    "\n",
    "def kids_bop (lyrics):\n",
    "    bad_words = ('Fuck', 'Shit', 'Bitch','Slut','Ass','Dick','Pussy')\n",
    "    clean_words = ('Smile','Hug','Friend','Sunshine','Candy','Love')\n",
    "    for i in bad_words:\n",
    "        clean_lyrics = lyrics.replace(i, random.choice(clean_words))\n",
    "        return clean_lyrics\n",
    "    \n",
    "    \n",
    "    "
   ]
  },
  {
   "cell_type": "code",
   "execution_count": 13,
   "metadata": {},
   "outputs": [
    {
     "data": {
      "text/plain": [
       "['Fuck', 'is', 'a', 'bad', 'word']"
      ]
     },
     "execution_count": 13,
     "metadata": {},
     "output_type": "execute_result"
    }
   ],
   "source": [
    "test = 'Fuck is a bad word'\n",
    "test.split()"
   ]
  },
  {
   "cell_type": "code",
   "execution_count": 21,
   "metadata": {},
   "outputs": [
    {
     "data": {
      "text/plain": [
       "'Hug is a bad word'"
      ]
     },
     "execution_count": 21,
     "metadata": {},
     "output_type": "execute_result"
    }
   ],
   "source": [
    "kids_bop(test)"
   ]
  },
  {
   "cell_type": "code",
   "execution_count": null,
   "metadata": {},
   "outputs": [],
   "source": []
  }
 ],
 "metadata": {
  "kernelspec": {
   "display_name": "Python 3",
   "language": "python",
   "name": "python3"
  },
  "language_info": {
   "codemirror_mode": {
    "name": "ipython",
    "version": 3
   },
   "file_extension": ".py",
   "mimetype": "text/x-python",
   "name": "python",
   "nbconvert_exporter": "python",
   "pygments_lexer": "ipython3",
   "version": "3.6.9"
  }
 },
 "nbformat": 4,
 "nbformat_minor": 4
}
