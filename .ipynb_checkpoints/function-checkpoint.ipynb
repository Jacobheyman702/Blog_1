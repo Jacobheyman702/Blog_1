{
 "cells": [
  {
   "cell_type": "code",
   "execution_count": 34,
   "metadata": {},
   "outputs": [],
   "source": [
    "import random\n",
    "from bs4 import BeautifulSoup\n",
    "import requests\n",
    "import json"
   ]
  },
  {
   "cell_type": "code",
   "execution_count": 17,
   "metadata": {},
   "outputs": [],
   "source": [
    "\n",
    "def kids_bop (lyrics):\n",
    "    bad_words = ('Fuck', 'Shit', 'Bitch','Slut','Ass','Dick','Pussy')\n",
    "    clean_words = ('Smile','Hug','Friend','Sunshine','Candy','Love')\n",
    "    for i in bad_words:\n",
    "        clean_lyrics = lyrics.replace(i, random.choice(clean_words))\n",
    "        return clean_lyrics\n",
    "    \n",
    "    \n",
    "    "
   ]
  },
  {
   "cell_type": "code",
   "execution_count": 13,
   "metadata": {},
   "outputs": [
    {
     "data": {
      "text/plain": [
       "['Fuck', 'is', 'a', 'bad', 'word']"
      ]
     },
     "execution_count": 13,
     "metadata": {},
     "output_type": "execute_result"
    }
   ],
   "source": [
    "test = 'Fuck is a bad word'\n",
    "test.split()"
   ]
  },
  {
   "cell_type": "code",
   "execution_count": 21,
   "metadata": {},
   "outputs": [
    {
     "data": {
      "text/plain": [
       "'Hug is a bad word'"
      ]
     },
     "execution_count": 21,
     "metadata": {},
     "output_type": "execute_result"
    }
   ],
   "source": [
    "kids_bop(test)"
   ]
  },
  {
   "cell_type": "code",
   "execution_count": 35,
   "metadata": {},
   "outputs": [],
   "source": [
    "url = 'https://www.stands4.com/services/v2/lyrics.php'"
   ]
  },
  {
   "cell_type": "code",
   "execution_count": 37,
   "metadata": {},
   "outputs": [],
   "source": [
    "response = requests.get(url)"
   ]
  },
  {
   "cell_type": "code",
   "execution_count": 38,
   "metadata": {},
   "outputs": [
    {
     "data": {
      "text/plain": [
       "200"
      ]
     },
     "execution_count": 38,
     "metadata": {},
     "output_type": "execute_result"
    }
   ],
   "source": [
    "response.status_code"
   ]
  },
  {
   "cell_type": "code",
   "execution_count": 40,
   "metadata": {},
   "outputs": [
    {
     "name": "stdout",
     "output_type": "stream",
     "text": [
      "<?xml version=\"1.0\" encoding=\"UTF-8\"?>\n",
      "<results><error>Invalid Token</error></results>\n",
      "\n"
     ]
    }
   ],
   "source": [
    "print(response.text)"
   ]
  },
  {
   "cell_type": "code",
   "execution_count": 52,
   "metadata": {},
   "outputs": [
    {
     "ename": "SyntaxError",
     "evalue": "invalid syntax (<ipython-input-52-770e1a07a777>, line 1)",
     "output_type": "error",
     "traceback": [
      "\u001b[0;36m  File \u001b[0;32m\"<ipython-input-52-770e1a07a777>\"\u001b[0;36m, line \u001b[0;32m1\u001b[0m\n\u001b[0;31m    pip install lyricsgenius\u001b[0m\n\u001b[0m              ^\u001b[0m\n\u001b[0;31mSyntaxError\u001b[0m\u001b[0;31m:\u001b[0m invalid syntax\n"
     ]
    }
   ],
   "source": [
    "pip install lyricsgenius"
   ]
  },
  {
   "cell_type": "code",
   "execution_count": 54,
   "metadata": {},
   "outputs": [
    {
     "name": "stdout",
     "output_type": "stream",
     "text": [
      "Collecting git+https://github.com/johnwmillr/LyricsGenius.git\n",
      "  Cloning https://github.com/johnwmillr/LyricsGenius.git to /private/var/folders/mf/thh92_z14kl2pm4130gtv0q00000gn/T/pip-req-build-jdtig9mn\n",
      "Requirement already satisfied: beautifulsoup4>=4.6.0 in /Users/heymanjake/opt/anaconda3/envs/learn-env/lib/python3.6/site-packages (from lyricsgenius==2.0.2) (4.8.2)\n",
      "Requirement already satisfied: requests>=2.20.0 in /Users/heymanjake/opt/anaconda3/envs/learn-env/lib/python3.6/site-packages (from lyricsgenius==2.0.2) (2.24.0)\n",
      "Requirement already satisfied: soupsieve>=1.2 in /Users/heymanjake/opt/anaconda3/envs/learn-env/lib/python3.6/site-packages (from beautifulsoup4>=4.6.0->lyricsgenius==2.0.2) (2.0.1)\n",
      "Requirement already satisfied: certifi>=2017.4.17 in /Users/heymanjake/opt/anaconda3/envs/learn-env/lib/python3.6/site-packages (from requests>=2.20.0->lyricsgenius==2.0.2) (2020.6.20)\n",
      "Requirement already satisfied: urllib3!=1.25.0,!=1.25.1,<1.26,>=1.21.1 in /Users/heymanjake/opt/anaconda3/envs/learn-env/lib/python3.6/site-packages (from requests>=2.20.0->lyricsgenius==2.0.2) (1.25.10)\n",
      "Requirement already satisfied: idna<3,>=2.5 in /Users/heymanjake/opt/anaconda3/envs/learn-env/lib/python3.6/site-packages (from requests>=2.20.0->lyricsgenius==2.0.2) (2.10)\n",
      "Requirement already satisfied: chardet<4,>=3.0.2 in /Users/heymanjake/opt/anaconda3/envs/learn-env/lib/python3.6/site-packages (from requests>=2.20.0->lyricsgenius==2.0.2) (3.0.4)\n",
      "Building wheels for collected packages: lyricsgenius\n",
      "  Building wheel for lyricsgenius (setup.py) ... \u001b[?25ldone\n",
      "\u001b[?25h  Created wheel for lyricsgenius: filename=lyricsgenius-2.0.2-py3-none-any.whl size=40220 sha256=4a80315faff62f78fadd5617184d1470c147a74bd7d252fa7c750ed8f3c05682\n",
      "  Stored in directory: /private/var/folders/mf/thh92_z14kl2pm4130gtv0q00000gn/T/pip-ephem-wheel-cache-o_vd7352/wheels/58/60/c5/816302a2fe1ddc34a2bf02cc2b2940b7551793c3737eab631d\n",
      "Successfully built lyricsgenius\n",
      "Installing collected packages: lyricsgenius\n",
      "Successfully installed lyricsgenius-2.0.2\n"
     ]
    }
   ],
   "source": [
    "!pip install git+https://github.com/johnwmillr/LyricsGenius.git"
   ]
  },
  {
   "cell_type": "code",
   "execution_count": 55,
   "metadata": {},
   "outputs": [],
   "source": [
    "import lyricsgenius as lg"
   ]
  },
  {
   "cell_type": "code",
   "execution_count": 62,
   "metadata": {},
   "outputs": [],
   "source": [
    "#file = open('/notebooks/lyrics.ipynb', 'w')\n",
    "genius = lg.Genius('GD82MIBjUbAIFC1hzhn2-euqnC__Add8W7wOOtmj7E_dtr2YhTrY-eqQTkqa72ZX',\n",
    "                  skip_non_songs=True, excluded_terms=['(Live)'],\n",
    "                  remove_section_headers=True)\n",
    "\n",
    "artists = ['Cardi B']\n",
    "\n",
    "def get_lyrics(arr, k):\n",
    "    c = 0\n",
    "    for name in arr:\n",
    "        try:\n",
    "            songs = (genius.search_artist(name, max_songs=k, sort='popularity')).song\n",
    "            s = [song.lyrics for song in songs]\n",
    "            file.write(\"\\n \\n <|endoftext|>  \\n \\n\".join(s))\n",
    "            c += 1\n",
    "            print(f\"Songs grabbed:{len(s)}\")\n",
    "        except:\n",
    "            print(f\"some exception {name}: {c}\")"
   ]
  },
  {
   "cell_type": "code",
   "execution_count": 69,
   "metadata": {},
   "outputs": [
    {
     "name": "stdout",
     "output_type": "stream",
     "text": [
      "Searching for songs by D...\n",
      "\n",
      "some exception D: 0\n",
      "Searching for songs by r...\n",
      "\n",
      "some exception r: 0\n",
      "Searching for songs by a...\n",
      "\n",
      "some exception a: 0\n",
      "Searching for songs by k...\n",
      "\n",
      "some exception k: 0\n",
      "Searching for songs by e...\n",
      "\n",
      "some exception e: 0\n"
     ]
    }
   ],
   "source": [
    "get_lyrics('Drake', 10)"
   ]
  },
  {
   "cell_type": "code",
   "execution_count": null,
   "metadata": {},
   "outputs": [],
   "source": []
  }
 ],
 "metadata": {
  "kernelspec": {
   "display_name": "Python 3",
   "language": "python",
   "name": "python3"
  },
  "language_info": {
   "codemirror_mode": {
    "name": "ipython",
    "version": 3
   },
   "file_extension": ".py",
   "mimetype": "text/x-python",
   "name": "python",
   "nbconvert_exporter": "python",
   "pygments_lexer": "ipython3",
   "version": "3.6.9"
  }
 },
 "nbformat": 4,
 "nbformat_minor": 4
}
