{
 "cells": [
  {
   "cell_type": "code",
   "execution_count": 17,
   "metadata": {},
   "outputs": [],
   "source": [
    "\n",
    "def kids_bop (lyrics):\n",
    "    bad_words = ('This','List','Has','Bad','Words','Not','For','The','Blog')\n",
    "    clean_words = ('Smile','Hug','Friend','Sunshine','Candy','Love')\n",
    "    for i in bad_words:\n",
    "        clean_lyrics = lyrics.replace(i, random.choice(clean_words))\n",
    "        return clean_lyrics\n",
    "    \n",
    "    \n",
    "    "
   ]
  }
 ],
 "metadata": {
  "kernelspec": {
   "display_name": "Python 3",
   "language": "python",
   "name": "python3"
  },
  "language_info": {
   "codemirror_mode": {
    "name": "ipython",
    "version": 3
   },
   "file_extension": ".py",
   "mimetype": "text/x-python",
   "name": "python",
   "nbconvert_exporter": "python",
   "pygments_lexer": "ipython3",
   "version": "3.6.9"
  }
 },
 "nbformat": 4,
 "nbformat_minor": 4
}
